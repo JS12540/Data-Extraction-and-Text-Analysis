{
 "cells": [
  {
   "cell_type": "markdown",
   "id": "2fade1d4",
   "metadata": {},
   "source": [
    "** IMPORTING LIBRARIES **"
   ]
  },
  {
   "cell_type": "code",
   "execution_count": 2,
   "id": "053abdba",
   "metadata": {},
   "outputs": [],
   "source": [
    "import bs4\n",
    "import urllib\n",
    "import pandas as pd\n",
    "import html5lib\n",
    "import requests\n",
    "import urllib.request\n",
    "from bs4 import BeautifulSoup"
   ]
  },
  {
   "cell_type": "markdown",
   "id": "d4ae0ece",
   "metadata": {},
   "source": [
    "DATA EXTRACTION"
   ]
  },
  {
   "cell_type": "markdown",
   "id": "9a18ce01",
   "metadata": {},
   "source": [
    "READING DATA"
   ]
  },
  {
   "cell_type": "code",
   "execution_count": 53,
   "id": "e25c5715",
   "metadata": {},
   "outputs": [],
   "source": [
    "data=\"Input.xlsx\""
   ]
  },
  {
   "cell_type": "code",
   "execution_count": 54,
   "id": "1c0c34b5",
   "metadata": {},
   "outputs": [],
   "source": [
    "df=pd.read_excel(data)"
   ]
  },
  {
   "cell_type": "code",
   "execution_count": 55,
   "id": "ab8a0efa",
   "metadata": {},
   "outputs": [
    {
     "data": {
      "text/html": [
       "<div>\n",
       "<style scoped>\n",
       "    .dataframe tbody tr th:only-of-type {\n",
       "        vertical-align: middle;\n",
       "    }\n",
       "\n",
       "    .dataframe tbody tr th {\n",
       "        vertical-align: top;\n",
       "    }\n",
       "\n",
       "    .dataframe thead th {\n",
       "        text-align: right;\n",
       "    }\n",
       "</style>\n",
       "<table border=\"1\" class=\"dataframe\">\n",
       "  <thead>\n",
       "    <tr style=\"text-align: right;\">\n",
       "      <th></th>\n",
       "      <th>URL_ID</th>\n",
       "      <th>URL</th>\n",
       "    </tr>\n",
       "  </thead>\n",
       "  <tbody>\n",
       "    <tr>\n",
       "      <th>0</th>\n",
       "      <td>37.0</td>\n",
       "      <td>https://insights.blackcoffer.com/ai-in-healthc...</td>\n",
       "    </tr>\n",
       "    <tr>\n",
       "      <th>1</th>\n",
       "      <td>38.0</td>\n",
       "      <td>https://insights.blackcoffer.com/what-if-the-c...</td>\n",
       "    </tr>\n",
       "    <tr>\n",
       "      <th>2</th>\n",
       "      <td>39.0</td>\n",
       "      <td>https://insights.blackcoffer.com/what-jobs-wil...</td>\n",
       "    </tr>\n",
       "    <tr>\n",
       "      <th>3</th>\n",
       "      <td>40.0</td>\n",
       "      <td>https://insights.blackcoffer.com/will-machine-...</td>\n",
       "    </tr>\n",
       "    <tr>\n",
       "      <th>4</th>\n",
       "      <td>41.0</td>\n",
       "      <td>https://insights.blackcoffer.com/will-ai-repla...</td>\n",
       "    </tr>\n",
       "  </tbody>\n",
       "</table>\n",
       "</div>"
      ],
      "text/plain": [
       "   URL_ID                                                URL\n",
       "0    37.0  https://insights.blackcoffer.com/ai-in-healthc...\n",
       "1    38.0  https://insights.blackcoffer.com/what-if-the-c...\n",
       "2    39.0  https://insights.blackcoffer.com/what-jobs-wil...\n",
       "3    40.0  https://insights.blackcoffer.com/will-machine-...\n",
       "4    41.0  https://insights.blackcoffer.com/will-ai-repla..."
      ]
     },
     "execution_count": 55,
     "metadata": {},
     "output_type": "execute_result"
    }
   ],
   "source": [
    "df.head()"
   ]
  },
  {
   "cell_type": "code",
   "execution_count": 56,
   "id": "ad42161a",
   "metadata": {},
   "outputs": [],
   "source": [
    "l=df.values.tolist()"
   ]
  },
  {
   "cell_type": "code",
   "execution_count": 37,
   "id": "7babbc9c",
   "metadata": {},
   "outputs": [
    {
     "name": "stdout",
     "output_type": "stream",
     "text": [
      "https://insights.blackcoffer.com/ai-in-healthcare-to-improve-patient-outcomes/\n",
      "https://insights.blackcoffer.com/what-if-the-creation-is-taking-over-the-creator/\n",
      "https://insights.blackcoffer.com/what-jobs-will-robots-take-from-humans-in-the-future/\n",
      "https://insights.blackcoffer.com/will-machine-replace-the-human-in-the-future-of-work/\n",
      "https://insights.blackcoffer.com/will-ai-replace-us-or-work-with-us/\n",
      "https://insights.blackcoffer.com/man-and-machines-together-machines-are-more-diligent-than-humans-blackcoffe/\n",
      "https://insights.blackcoffer.com/in-future-or-in-upcoming-years-humans-and-machines-are-going-to-work-together-in-every-field-of-work/\n",
      "https://insights.blackcoffer.com/how-neural-networks-can-be-applied-in-various-areas-in-the-future/\n",
      "https://insights.blackcoffer.com/how-machine-learning-will-affect-your-business/\n",
      "https://insights.blackcoffer.com/deep-learning-impact-on-areas-of-e-learning/\n",
      "https://insights.blackcoffer.com/how-to-protect-future-data-and-its-privacy-blackcoffer/\n",
      "https://insights.blackcoffer.com/how-machines-ai-automations-and-robo-human-are-effective-in-finance-and-banking/\n",
      "https://insights.blackcoffer.com/ai-human-robotics-machine-future-planet-blackcoffer-thinking-jobs-workplace/\n",
      "https://insights.blackcoffer.com/how-ai-will-change-the-world-blackcoffer/\n",
      "https://insights.blackcoffer.com/future-of-work-how-ai-has-entered-the-workplace/\n",
      "https://insights.blackcoffer.com/ai-tool-alexa-google-assistant-finance-banking-tool-future/\n",
      "https://insights.blackcoffer.com/ai-healthcare-revolution-ml-technology-algorithm-google-analytics-industrialrevolution/\n",
      "https://insights.blackcoffer.com/all-you-need-to-know-about-online-marketing/\n",
      "https://insights.blackcoffer.com/evolution-of-advertising-industry/\n",
      "https://insights.blackcoffer.com/how-data-analytics-can-help-your-business-respond-to-the-impact-of-covid-19/\n",
      "https://insights.blackcoffer.com/covid-19-environmental-impact-for-the-future/\n",
      "https://insights.blackcoffer.com/environmental-impact-of-the-covid-19-pandemic-lesson-for-the-future/\n",
      "https://insights.blackcoffer.com/how-data-analytics-and-ai-are-used-to-halt-the-covid-19-pandemic/\n",
      "https://insights.blackcoffer.com/difference-between-artificial-intelligence-machine-learning-statistics-and-data-mining/\n",
      "https://insights.blackcoffer.com/how-python-became-the-first-choice-for-data-science/\n",
      "https://insights.blackcoffer.com/how-google-fit-measure-heart-and-respiratory-rates-using-a-phone/\n",
      "https://insights.blackcoffer.com/what-is-the-future-of-mobile-apps/\n",
      "https://insights.blackcoffer.com/impact-of-ai-in-health-and-medicine/\n",
      "https://insights.blackcoffer.com/telemedicine-what-patients-like-and-dislike-about-it/\n",
      "https://insights.blackcoffer.com/how-we-forecast-future-technologies/\n",
      "https://insights.blackcoffer.com/can-robots-tackle-late-life-loneliness/\n",
      "https://insights.blackcoffer.com/embedding-care-robots-into-society-socio-technical-considerations/\n",
      "https://insights.blackcoffer.com/management-challenges-for-future-digitalization-of-healthcare-services/\n",
      "https://insights.blackcoffer.com/are-we-any-closer-to-preventing-a-nuclear-holocaust/\n",
      "https://insights.blackcoffer.com/will-technology-eliminate-the-need-for-animal-testing-in-drug-development/\n",
      "https://insights.blackcoffer.com/will-we-ever-understand-the-nature-of-consciousness/\n",
      "https://insights.blackcoffer.com/will-we-ever-colonize-outer-space/\n",
      "https://insights.blackcoffer.com/what-is-the-chance-homo-sapiens-will-survive-for-the-next-500-years/\n",
      "https://insights.blackcoffer.com/why-does-your-business-need-a-chatbot/\n",
      "https://insights.blackcoffer.com/how-you-lead-a-project-or-a-team-without-any-technical-expertise/\n",
      "https://insights.blackcoffer.com/can-you-be-great-leader-without-technical-expertise/\n",
      "https://insights.blackcoffer.com/how-does-artificial-intelligence-affect-the-environment/\n",
      "https://insights.blackcoffer.com/how-to-overcome-your-fear-of-making-mistakes-2/\n",
      "https://insights.blackcoffer.com/is-perfection-the-greatest-enemy-of-productivity/\n",
      "https://insights.blackcoffer.com/global-financial-crisis-2008-causes-effects-and-its-solution/\n",
      "https://insights.blackcoffer.com/gender-diversity-and-equality-in-the-tech-industry/\n",
      "https://insights.blackcoffer.com/how-to-overcome-your-fear-of-making-mistakes/\n",
      "https://insights.blackcoffer.com/how-small-business-can-survive-the-coronavirus-crisis/\n",
      "https://insights.blackcoffer.com/impacts-of-covid-19-on-vegetable-vendors-and-food-stalls/\n",
      "https://insights.blackcoffer.com/impacts-of-covid-19-on-vegetable-vendors/\n",
      "https://insights.blackcoffer.com/impact-of-covid-19-pandemic-on-tourism-aviation-industries/\n",
      "https://insights.blackcoffer.com/impact-of-covid-19-pandemic-on-sports-events-around-the-world/\n",
      "https://insights.blackcoffer.com/changing-landscape-and-emerging-trends-in-the-indian-it-ites-industry/\n",
      "https://insights.blackcoffer.com/online-gaming-adolescent-online-gaming-effects-demotivated-depression-musculoskeletal-and-psychosomatic-symptoms/\n",
      "https://insights.blackcoffer.com/human-rights-outlook/\n",
      "https://insights.blackcoffer.com/how-voice-search-makes-your-business-a-successful-business/\n",
      "https://insights.blackcoffer.com/how-the-covid-19-crisis-is-redefining-jobs-and-services/\n",
      "https://insights.blackcoffer.com/how-to-increase-social-media-engagement-for-marketers/\n",
      "https://insights.blackcoffer.com/impacts-of-covid-19-on-streets-sides-food-stalls/\n",
      "https://insights.blackcoffer.com/coronavirus-impact-on-energy-markets-2/\n",
      "https://insights.blackcoffer.com/coronavirus-impact-on-the-hospitality-industry-5/\n",
      "https://insights.blackcoffer.com/lessons-from-the-past-some-key-learnings-relevant-to-the-coronavirus-crisis-4/\n",
      "https://insights.blackcoffer.com/estimating-the-impact-of-covid-19-on-the-world-of-work-2/\n",
      "https://insights.blackcoffer.com/estimating-the-impact-of-covid-19-on-the-world-of-work-3/\n",
      "https://insights.blackcoffer.com/travel-and-tourism-outlook/\n",
      "https://insights.blackcoffer.com/gaming-disorder-and-effects-of-gaming-on-health/\n",
      "https://insights.blackcoffer.com/what-is-the-repercussion-of-the-environment-due-to-the-covid-19-pandemic-situation/\n",
      "https://insights.blackcoffer.com/what-is-the-repercussion-of-the-environment-due-to-the-covid-19-pandemic-situation-2/\n",
      "https://insights.blackcoffer.com/impact-of-covid-19-pandemic-on-office-space-and-co-working-industries/\n",
      "https://insights.blackcoffer.com/contribution-of-handicrafts-visual-arts-literature-in-the-indian-economy/\n",
      "https://insights.blackcoffer.com/how-covid-19-is-impacting-payment-preferences/\n",
      "https://insights.blackcoffer.com/how-will-covid-19-affect-the-world-of-work-2/\n",
      "https://insights.blackcoffer.com/lessons-from-the-past-some-key-learnings-relevant-to-the-coronavirus-crisis/\n",
      "https://insights.blackcoffer.com/covid-19-how-have-countries-been-responding/\n",
      "https://insights.blackcoffer.com/coronavirus-impact-on-the-hospitality-industry-2/\n",
      "https://insights.blackcoffer.com/how-will-covid-19-affect-the-world-of-work-3/\n",
      "https://insights.blackcoffer.com/coronavirus-impact-on-the-hospitality-industry-3/\n",
      "https://insights.blackcoffer.com/estimating-the-impact-of-covid-19-on-the-world-of-work/\n",
      "https://insights.blackcoffer.com/covid-19-how-have-countries-been-responding-2/\n",
      "https://insights.blackcoffer.com/how-will-covid-19-affect-the-world-of-work-4/\n",
      "https://insights.blackcoffer.com/lessons-from-the-past-some-key-learnings-relevant-to-the-coronavirus-crisis-2/\n",
      "https://insights.blackcoffer.com/lessons-from-the-past-some-key-learnings-relevant-to-the-coronavirus-crisis-3/\n",
      "https://insights.blackcoffer.com/coronavirus-impact-on-the-hospitality-industry-4/\n",
      "https://insights.blackcoffer.com/why-scams-like-nirav-modi-happen-with-indian-banks/\n",
      "https://insights.blackcoffer.com/impact-of-covid-19-on-the-global-economy/\n",
      "https://insights.blackcoffer.com/impact-of-covid-19coronavirus-on-the-indian-economy-2/\n",
      "https://insights.blackcoffer.com/impact-of-covid-19-on-the-global-economy-2/\n",
      "https://insights.blackcoffer.com/impact-of-covid-19-coronavirus-on-the-indian-economy-3/\n",
      "https://insights.blackcoffer.com/should-celebrities-be-allowed-to-join-politics/\n",
      "https://insights.blackcoffer.com/how-prepared-is-india-to-tackle-a-possible-covid-19-outbreak/\n",
      "https://insights.blackcoffer.com/how-will-covid-19-affect-the-world-of-work/\n",
      "https://insights.blackcoffer.com/controversy-as-a-marketing-strategy/\n",
      "https://insights.blackcoffer.com/coronavirus-impact-on-the-hospitality-industry/\n",
      "https://insights.blackcoffer.com/coronavirus-impact-on-energy-markets/\n",
      "https://insights.blackcoffer.com/what-are-the-key-policies-that-will-mitigate-the-impacts-of-covid-19-on-the-world-of-work/\n",
      "https://insights.blackcoffer.com/marketing-drives-results-with-a-focus-on-problems/\n",
      "https://insights.blackcoffer.com/continued-demand-for-sustainability/\n",
      "https://insights.blackcoffer.com/coronavirus-disease-covid-19-effect-the-impact-and-role-of-mass-media-during-the-pandemic/\n",
      "https://insights.blackcoffer.com/should-people-wear-fabric-gloves-seeking-evidence-regarding-the-differential-transfer-of-covid-19-or-coronaviruses-generally-between-surfaces/\n",
      "https://insights.blackcoffer.com/why-is-there-a-severe-immunological-and-inflammatory-explosion-in-those-affected-by-sarms-covid-19/\n",
      "https://insights.blackcoffer.com/what-do-you-think-is-the-lesson-or-lessons-to-be-learned-with-covid-19/\n",
      "https://insights.blackcoffer.com/coronavirus-the-unexpected-challenge-for-the-european-union/\n",
      "https://insights.blackcoffer.com/industrial-revolution-4-0-pros-and-cons/\n",
      "https://insights.blackcoffer.com/impact-of-covid-19-coronavirus-on-the-indian-economy/\n",
      "https://insights.blackcoffer.com/impact-of-covid-19-coronavirus-on-the-indian-economy-2/\n",
      "https://insights.blackcoffer.com/impact-of-covid-19coronavirus-on-the-indian-economy/\n",
      "https://insights.blackcoffer.com/impact-of-covid-19-coronavirus-on-the-global-economy/\n",
      "https://insights.blackcoffer.com/ensuring-growth-through-insurance-technology/\n",
      "https://insights.blackcoffer.com/blockchain-in-fintech/\n",
      "https://insights.blackcoffer.com/blockchain-for-payments/\n",
      "https://insights.blackcoffer.com/the-future-of-investing/\n",
      "https://insights.blackcoffer.com/big-data-analytics-in-healthcare/\n",
      "https://insights.blackcoffer.com/business-analytics-in-the-healthcare-industry/\n",
      "https://insights.blackcoffer.com/challenges-and-opportunities-of-big-data-in-healthcare/\n"
     ]
    },
    {
     "data": {
      "text/plain": [
       "'        \\nurl=l[0][1]\\n#r=requests.get(url)\\nr = requests.get(url, headers={\"User-Agent\": \"XY\"})\\nsoup = BeautifulSoup(r.content, \\'html.parser\\') \\n#print(r)\\n#print(soup.prettify())\\nprint(soup.find_all(\"p\"))\\n'"
      ]
     },
     "execution_count": 37,
     "metadata": {},
     "output_type": "execute_result"
    }
   ],
   "source": [
    "for i in l:\n",
    "    url=i[1]\n",
    "    print(url)\n",
    "    r=requests.get(url,headers={\"User-Agent\":\"XY\"})\n",
    "    soup=BeautifulSoup(r.content,'html.parser')\n",
    "    uid=int(i[0])\n",
    "    path=\"C:/Users/JAY/OneDrive/Desktop/\"+str(uid)+\".txt\"\n",
    "    f = open(path, \"w\",encoding='utf-8')\n",
    "    soup.encode(\"utf-8\")\n",
    "    # traverse paragraphs from soup\n",
    "    for data in soup.find_all(\"p\"):\n",
    "        s = data.get_text()\n",
    "        f.writelines(s)\n",
    "  \n",
    "    f.close()\n",
    "'''        \n",
    "url=l[0][1]\n",
    "#r=requests.get(url)\n",
    "r = requests.get(url, headers={\"User-Agent\": \"XY\"})\n",
    "soup = BeautifulSoup(r.content, 'html.parser') \n",
    "#print(r)\n",
    "#print(soup.prettify())\n",
    "print(soup.find_all(\"p\"))\n",
    "'''"
   ]
  },
  {
   "cell_type": "code",
   "execution_count": 62,
   "id": "8ef9f983",
   "metadata": {},
   "outputs": [],
   "source": [
    "import nltk\n",
    "from nltk.corpus import stopwords\n",
    "from nltk.tokenize import word_tokenize\n",
    "from nltk.tokenize import sent_tokenize\n",
    "import re"
   ]
  },
  {
   "cell_type": "code",
   "execution_count": 7,
   "id": "1555ac93",
   "metadata": {},
   "outputs": [
    {
     "name": "stderr",
     "output_type": "stream",
     "text": [
      "[nltk_data] Downloading package stopwords to\n",
      "[nltk_data]     C:\\Users\\JAY\\AppData\\Roaming\\nltk_data...\n",
      "[nltk_data]   Unzipping corpora\\stopwords.zip.\n"
     ]
    },
    {
     "data": {
      "text/plain": [
       "True"
      ]
     },
     "execution_count": 7,
     "metadata": {},
     "output_type": "execute_result"
    }
   ],
   "source": [
    "import nltk\n",
    "nltk.download('stopwords')"
   ]
  },
  {
   "cell_type": "code",
   "execution_count": 10,
   "id": "cf175bc0",
   "metadata": {},
   "outputs": [
    {
     "name": "stderr",
     "output_type": "stream",
     "text": [
      "[nltk_data] Downloading package punkt to\n",
      "[nltk_data]     C:\\Users\\JAY\\AppData\\Roaming\\nltk_data...\n",
      "[nltk_data]   Unzipping tokenizers\\punkt.zip.\n"
     ]
    },
    {
     "data": {
      "text/plain": [
       "True"
      ]
     },
     "execution_count": 10,
     "metadata": {},
     "output_type": "execute_result"
    }
   ],
   "source": [
    "nltk.download('punkt')"
   ]
  },
  {
   "cell_type": "markdown",
   "id": "46636723",
   "metadata": {},
   "source": [
    "Creating a list of Positive and Negative words from positive and negative dicitionaries"
   ]
  },
  {
   "cell_type": "code",
   "execution_count": 52,
   "id": "ab6217f4",
   "metadata": {},
   "outputs": [],
   "source": [
    "path1=\"C:/Users/JAY/OneDrive/Desktop/positive.txt\"\n",
    "pos=open(path1,'r',encoding='utf-8')\n",
    "l=pos.read()\n",
    "positive=l.split()\n",
    "\n",
    "path2=\"C:/Users/JAY/OneDrive/Desktop/negative.txt\"\n",
    "neg=open(path2,'r',encoding='utf-8')\n",
    "l1=neg.read()\n",
    "negative=l1.split()"
   ]
  },
  {
   "cell_type": "code",
   "execution_count": 65,
   "id": "564313df",
   "metadata": {},
   "outputs": [],
   "source": [
    "def count_complex_words(words_list):\n",
    "    c = 0\n",
    "    for word in words_list:\n",
    "        l = re.findall('(?!e$)[aeiou]+', word, re.I)+re.findall('^[aeiouy]*e$', word, re.I)\n",
    "        if len(l) > 2:\n",
    "            c += 1\n",
    "    return c"
   ]
  },
  {
   "cell_type": "code",
   "execution_count": 63,
   "id": "0ae40c6b",
   "metadata": {},
   "outputs": [],
   "source": [
    "def count_syllables(word):\n",
    "    c = 0\n",
    "    vowels = 'aeiou'\n",
    "    l = re.findall(f'(?!e$)(?!es$)(?!ed$)[{vowels}]', word, re.I)\n",
    "    return len(l)"
   ]
  },
  {
   "cell_type": "code",
   "execution_count": 64,
   "id": "db79b57d",
   "metadata": {},
   "outputs": [
    {
     "data": {
      "text/plain": [
       "1"
      ]
     },
     "execution_count": 64,
     "metadata": {},
     "output_type": "execute_result"
    }
   ],
   "source": [
    "def count_personal_pronouns(text):\n",
    "    pronoun_count = re.compile(r'\\b(I|we|ours|my|mine|(?-i:us))\\b', re.I)\n",
    "    pronouns = pronoun_count.findall(text)\n",
    "    return len(pronouns)"
   ]
  },
  {
   "cell_type": "code",
   "execution_count": 76,
   "id": "c8cf5b72",
   "metadata": {},
   "outputs": [
    {
     "name": "stdout",
     "output_type": "stream",
     "text": [
      "[[37, 'https://insights.blackcoffer.com/ai-in-healthcare-to-improve-patient-outcomes/', 68, 26, 0.4468085058850159, 0.08181026972862465, 22, 0.36712095400340716, 8.946848381601363, 22, 431, 1174, 2898, 1, 7], [38, 'https://insights.blackcoffer.com/what-if-the-creation-is-taking-over-the-creator/', 54, 28, 0.3170731668649614, 0.10073710061334508, 13, 0.27432590855803046, 5.3097303634232125, 12, 234, 853, 1746, 3, 6], [39, 'https://insights.blackcoffer.com/what-jobs-will-robots-take-from-humans-in-the-future/', 64, 29, 0.37634408197479485, 0.09073170722855442, 16, 0.37690839694656486, 6.550763358778626, 15, 395, 1048, 2537, 3, 7], [40, 'https://insights.blackcoffer.com/will-machine-replace-the-human-in-the-future-of-work/', 53, 14, 0.5820895435509024, 0.07274701403610531, 12, 0.24759871931696906, 4.899039487726788, 12, 232, 937, 2007, 2, 6], [41, 'https://insights.blackcoffer.com/will-ai-replace-us-or-work-with-us/', 48, 19, 0.43283581443528635, 0.06620553353141746, 16, 0.2867853795688847, 6.514714151827554, 16, 306, 1067, 2221, 11, 6]]\n"
     ]
    }
   ],
   "source": [
    "ans=[]\n",
    "stop_words = set(stopwords.words('english')) \n",
    "for i in l:\n",
    "    b=[]\n",
    "    url=i[1]\n",
    "    #print(url)\n",
    "    uid=int(i[0])\n",
    "    b.append(uid)\n",
    "    b.append(url)\n",
    "    path=\"C:/Users/JAY/OneDrive/Desktop/Data Extraction/\"+str(uid)+\".txt\"\n",
    "    \n",
    "    #Reading file\n",
    "    file1 = open(path,'r',encoding='utf-8') \n",
    "    line = file1.read()\n",
    "    words = line.split()\n",
    "    \n",
    "    #filtering using stop words\n",
    "    filtered=[]\n",
    "    for r in words: \n",
    "        if not r in stop_words: \n",
    "            filtered.append(r)\n",
    "    #print(filtered[:5])\n",
    "    \n",
    "    # Calculating positive and negative score\n",
    "    positive_score=0\n",
    "    negative_score=0\n",
    "    for i in filtered:\n",
    "        if(i in positive):\n",
    "            positive_score+=1\n",
    "        elif(i in negative):\n",
    "            negative_score+=-1\n",
    "    negative_score=negative_score*(-1)\n",
    "    #print(positive_score)\n",
    "    #print(negative_score)\n",
    "    \n",
    "    b.append(positive_score)\n",
    "    b.append(negative_score)\n",
    "    \n",
    "    #polarity score\n",
    "    polarity_score=(positive_score - negative_score)/ ((positive_score + negative_score) + 0.000001)\n",
    "    \n",
    "    #subjectivity score\n",
    "    subject_score=(positive_score+negative_score)/(len(filtered)+0.000001)\n",
    "    \n",
    "    b.append(polarity_score)\n",
    "    b.append(subject_score)\n",
    "    \n",
    "    #Joining all cleaned words\n",
    "    filterstr= ' '.join([str(elem) for elem in filtered])\n",
    "    punc = '''!()-[]{};:'\"\\,<>./?@#$%^&*_~'''\n",
    "    res=\" \"\n",
    "    # Removing punctuations in string Using loop + punctuation string\n",
    "    for ele in filterstr:\n",
    "        if ele not in punc:\n",
    "            res+=ele\n",
    "            \n",
    "    #word count        \n",
    "    word_tokens = word_tokenize(res)\n",
    "    word_count=len(word_tokens)\n",
    "    #print(word_count)\n",
    "    \n",
    "    # average no of words per sentence\n",
    "    sent_token=sent_tokenize(filterstr)\n",
    "    if(len(sent_token)!=0 ):\n",
    "        avg_no_of_words_per_sentence= int(word_count/len(sent_token))\n",
    "    else:\n",
    "        avg_no_of_words_per_sentence= 0\n",
    "        \n",
    "    #print(int(avg_no_of_words_per_sentence))\n",
    "    \n",
    "    s=0\n",
    "    syllables=[]\n",
    "    for i in word_tokens:\n",
    "        list1=[]\n",
    "        list1.append(i)\n",
    "        y=count_syllables(i)\n",
    "        list1.append(y)\n",
    "        syllables.append(list1)\n",
    "        s+=y\n",
    "    \n",
    "    \n",
    "    #pronouns    \n",
    "    pronouns=count_personal_pronouns(res)\n",
    "    \n",
    "    \n",
    "    #average word length\n",
    "    c=0\n",
    "    for word in word_tokens:\n",
    "        c+=len(word)\n",
    "    if(len(word_tokens)!=0):    \n",
    "        avg_word_length= round(c/len(word_tokens))\n",
    "    else:\n",
    "        avg_word_length= 0\n",
    "         \n",
    "    #complex word count\n",
    "    complex_words=count_complex_words(word_tokens)\n",
    "    \n",
    "    \n",
    "    #percentage of complex words\n",
    "    if(word_count!=0):\n",
    "        percentage_of_complex= complex_words/word_count\n",
    "    else:\n",
    "        percentage_of_complex=0\n",
    "    \n",
    "    \n",
    "    #average sentence length\n",
    "    if(len(sent_token)!=0):\n",
    "        avg_sentence_length=round(len(word_tokens)/len(sent_token))\n",
    "    else:\n",
    "        avg_sentence_length=0\n",
    "    \n",
    "    \n",
    "    #fog index\n",
    "    fog_index= (0.4)*(avg_sentence_length+percentage_of_complex)\n",
    "    \n",
    "    #appending in a list\n",
    "    b.append(avg_sentence_length)\n",
    "    b.append(percentage_of_complex)\n",
    "    b.append(fog_index)\n",
    "    b.append(avg_no_of_words_per_sentence)\n",
    "    b.append(complex_words)\n",
    "    b.append(word_count)\n",
    "    b.append(s)\n",
    "    b.append(pronouns)   \n",
    "    b.append(avg_word_length) \n",
    "    \n",
    "    #print(b)\n",
    "    ans.append(b)    \n",
    "print(ans[:5])"
   ]
  },
  {
   "cell_type": "code",
   "execution_count": 80,
   "id": "a1b020ff",
   "metadata": {},
   "outputs": [],
   "source": [
    "df = pd.DataFrame(ans, columns =['URL_ID', 'URL','POSITIVE SCORE','NEGATIVE SCORE','POLARITY SCORE','SUBJECTIVITY SCORE','AVG SENTENCE LENGTH','PERCENTAGE OF COMPLEX WORDS','FOG INDEX','AVG NUMBER OF WORDS PER SENTENCE','COMPLEX WORD COUNT','WORD COUNT','SYLLABLE PER WORD','PERSONAL PRONOUNS','AVG WORD LENGTH'])"
   ]
  },
  {
   "cell_type": "code",
   "execution_count": 82,
   "id": "2f77e843",
   "metadata": {},
   "outputs": [
    {
     "data": {
      "text/html": [
       "<div>\n",
       "<style scoped>\n",
       "    .dataframe tbody tr th:only-of-type {\n",
       "        vertical-align: middle;\n",
       "    }\n",
       "\n",
       "    .dataframe tbody tr th {\n",
       "        vertical-align: top;\n",
       "    }\n",
       "\n",
       "    .dataframe thead th {\n",
       "        text-align: right;\n",
       "    }\n",
       "</style>\n",
       "<table border=\"1\" class=\"dataframe\">\n",
       "  <thead>\n",
       "    <tr style=\"text-align: right;\">\n",
       "      <th></th>\n",
       "      <th>URL_ID</th>\n",
       "      <th>URL</th>\n",
       "      <th>POSITIVE SCORE</th>\n",
       "      <th>NEGATIVE SCORE</th>\n",
       "      <th>POLARITY SCORE</th>\n",
       "      <th>SUBJECTIVITY SCORE</th>\n",
       "      <th>AVG SENTENCE LENGTH</th>\n",
       "      <th>PERCENTAGE OF COMPLEX WORDS</th>\n",
       "      <th>FOG INDEX</th>\n",
       "      <th>AVG NUMBER OF WORDS PER SENTENCE</th>\n",
       "      <th>COMPLEX WORD COUNT</th>\n",
       "      <th>WORD COUNT</th>\n",
       "      <th>SYLLABLE PER WORD</th>\n",
       "      <th>PERSONAL PRONOUNS</th>\n",
       "      <th>AVG WORD LENGTH</th>\n",
       "    </tr>\n",
       "  </thead>\n",
       "  <tbody>\n",
       "    <tr>\n",
       "      <th>0</th>\n",
       "      <td>37</td>\n",
       "      <td>https://insights.blackcoffer.com/ai-in-healthc...</td>\n",
       "      <td>68</td>\n",
       "      <td>26</td>\n",
       "      <td>0.446809</td>\n",
       "      <td>0.081810</td>\n",
       "      <td>22</td>\n",
       "      <td>0.367121</td>\n",
       "      <td>8.946848</td>\n",
       "      <td>22</td>\n",
       "      <td>431</td>\n",
       "      <td>1174</td>\n",
       "      <td>2898</td>\n",
       "      <td>1</td>\n",
       "      <td>7</td>\n",
       "    </tr>\n",
       "    <tr>\n",
       "      <th>1</th>\n",
       "      <td>38</td>\n",
       "      <td>https://insights.blackcoffer.com/what-if-the-c...</td>\n",
       "      <td>54</td>\n",
       "      <td>28</td>\n",
       "      <td>0.317073</td>\n",
       "      <td>0.100737</td>\n",
       "      <td>13</td>\n",
       "      <td>0.274326</td>\n",
       "      <td>5.309730</td>\n",
       "      <td>12</td>\n",
       "      <td>234</td>\n",
       "      <td>853</td>\n",
       "      <td>1746</td>\n",
       "      <td>3</td>\n",
       "      <td>6</td>\n",
       "    </tr>\n",
       "    <tr>\n",
       "      <th>2</th>\n",
       "      <td>39</td>\n",
       "      <td>https://insights.blackcoffer.com/what-jobs-wil...</td>\n",
       "      <td>64</td>\n",
       "      <td>29</td>\n",
       "      <td>0.376344</td>\n",
       "      <td>0.090732</td>\n",
       "      <td>16</td>\n",
       "      <td>0.376908</td>\n",
       "      <td>6.550763</td>\n",
       "      <td>15</td>\n",
       "      <td>395</td>\n",
       "      <td>1048</td>\n",
       "      <td>2537</td>\n",
       "      <td>3</td>\n",
       "      <td>7</td>\n",
       "    </tr>\n",
       "    <tr>\n",
       "      <th>3</th>\n",
       "      <td>40</td>\n",
       "      <td>https://insights.blackcoffer.com/will-machine-...</td>\n",
       "      <td>53</td>\n",
       "      <td>14</td>\n",
       "      <td>0.582090</td>\n",
       "      <td>0.072747</td>\n",
       "      <td>12</td>\n",
       "      <td>0.247599</td>\n",
       "      <td>4.899039</td>\n",
       "      <td>12</td>\n",
       "      <td>232</td>\n",
       "      <td>937</td>\n",
       "      <td>2007</td>\n",
       "      <td>2</td>\n",
       "      <td>6</td>\n",
       "    </tr>\n",
       "    <tr>\n",
       "      <th>4</th>\n",
       "      <td>41</td>\n",
       "      <td>https://insights.blackcoffer.com/will-ai-repla...</td>\n",
       "      <td>48</td>\n",
       "      <td>19</td>\n",
       "      <td>0.432836</td>\n",
       "      <td>0.066206</td>\n",
       "      <td>16</td>\n",
       "      <td>0.286785</td>\n",
       "      <td>6.514714</td>\n",
       "      <td>16</td>\n",
       "      <td>306</td>\n",
       "      <td>1067</td>\n",
       "      <td>2221</td>\n",
       "      <td>11</td>\n",
       "      <td>6</td>\n",
       "    </tr>\n",
       "    <tr>\n",
       "      <th>...</th>\n",
       "      <td>...</td>\n",
       "      <td>...</td>\n",
       "      <td>...</td>\n",
       "      <td>...</td>\n",
       "      <td>...</td>\n",
       "      <td>...</td>\n",
       "      <td>...</td>\n",
       "      <td>...</td>\n",
       "      <td>...</td>\n",
       "      <td>...</td>\n",
       "      <td>...</td>\n",
       "      <td>...</td>\n",
       "      <td>...</td>\n",
       "      <td>...</td>\n",
       "      <td>...</td>\n",
       "    </tr>\n",
       "    <tr>\n",
       "      <th>109</th>\n",
       "      <td>146</td>\n",
       "      <td>https://insights.blackcoffer.com/blockchain-fo...</td>\n",
       "      <td>25</td>\n",
       "      <td>23</td>\n",
       "      <td>0.041667</td>\n",
       "      <td>0.087273</td>\n",
       "      <td>15</td>\n",
       "      <td>0.309609</td>\n",
       "      <td>6.123843</td>\n",
       "      <td>14</td>\n",
       "      <td>174</td>\n",
       "      <td>562</td>\n",
       "      <td>1254</td>\n",
       "      <td>7</td>\n",
       "      <td>7</td>\n",
       "    </tr>\n",
       "    <tr>\n",
       "      <th>110</th>\n",
       "      <td>147</td>\n",
       "      <td>https://insights.blackcoffer.com/the-future-of...</td>\n",
       "      <td>33</td>\n",
       "      <td>8</td>\n",
       "      <td>0.609756</td>\n",
       "      <td>0.060831</td>\n",
       "      <td>17</td>\n",
       "      <td>0.299419</td>\n",
       "      <td>6.919767</td>\n",
       "      <td>17</td>\n",
       "      <td>206</td>\n",
       "      <td>688</td>\n",
       "      <td>1501</td>\n",
       "      <td>1</td>\n",
       "      <td>7</td>\n",
       "    </tr>\n",
       "    <tr>\n",
       "      <th>111</th>\n",
       "      <td>148</td>\n",
       "      <td>https://insights.blackcoffer.com/big-data-anal...</td>\n",
       "      <td>29</td>\n",
       "      <td>35</td>\n",
       "      <td>-0.093750</td>\n",
       "      <td>0.092888</td>\n",
       "      <td>12</td>\n",
       "      <td>0.306610</td>\n",
       "      <td>4.922644</td>\n",
       "      <td>11</td>\n",
       "      <td>218</td>\n",
       "      <td>711</td>\n",
       "      <td>1577</td>\n",
       "      <td>0</td>\n",
       "      <td>6</td>\n",
       "    </tr>\n",
       "    <tr>\n",
       "      <th>112</th>\n",
       "      <td>149</td>\n",
       "      <td>https://insights.blackcoffer.com/business-anal...</td>\n",
       "      <td>26</td>\n",
       "      <td>2</td>\n",
       "      <td>0.857143</td>\n",
       "      <td>0.084084</td>\n",
       "      <td>21</td>\n",
       "      <td>0.407080</td>\n",
       "      <td>8.562832</td>\n",
       "      <td>21</td>\n",
       "      <td>138</td>\n",
       "      <td>339</td>\n",
       "      <td>840</td>\n",
       "      <td>0</td>\n",
       "      <td>7</td>\n",
       "    </tr>\n",
       "    <tr>\n",
       "      <th>113</th>\n",
       "      <td>150</td>\n",
       "      <td>https://insights.blackcoffer.com/challenges-an...</td>\n",
       "      <td>40</td>\n",
       "      <td>35</td>\n",
       "      <td>0.066667</td>\n",
       "      <td>0.122150</td>\n",
       "      <td>10</td>\n",
       "      <td>0.302439</td>\n",
       "      <td>4.120976</td>\n",
       "      <td>9</td>\n",
       "      <td>186</td>\n",
       "      <td>615</td>\n",
       "      <td>1374</td>\n",
       "      <td>1</td>\n",
       "      <td>7</td>\n",
       "    </tr>\n",
       "  </tbody>\n",
       "</table>\n",
       "<p>114 rows × 15 columns</p>\n",
       "</div>"
      ],
      "text/plain": [
       "     URL_ID                                                URL  \\\n",
       "0        37  https://insights.blackcoffer.com/ai-in-healthc...   \n",
       "1        38  https://insights.blackcoffer.com/what-if-the-c...   \n",
       "2        39  https://insights.blackcoffer.com/what-jobs-wil...   \n",
       "3        40  https://insights.blackcoffer.com/will-machine-...   \n",
       "4        41  https://insights.blackcoffer.com/will-ai-repla...   \n",
       "..      ...                                                ...   \n",
       "109     146  https://insights.blackcoffer.com/blockchain-fo...   \n",
       "110     147  https://insights.blackcoffer.com/the-future-of...   \n",
       "111     148  https://insights.blackcoffer.com/big-data-anal...   \n",
       "112     149  https://insights.blackcoffer.com/business-anal...   \n",
       "113     150  https://insights.blackcoffer.com/challenges-an...   \n",
       "\n",
       "     POSITIVE SCORE  NEGATIVE SCORE  POLARITY SCORE  SUBJECTIVITY SCORE  \\\n",
       "0                68              26        0.446809            0.081810   \n",
       "1                54              28        0.317073            0.100737   \n",
       "2                64              29        0.376344            0.090732   \n",
       "3                53              14        0.582090            0.072747   \n",
       "4                48              19        0.432836            0.066206   \n",
       "..              ...             ...             ...                 ...   \n",
       "109              25              23        0.041667            0.087273   \n",
       "110              33               8        0.609756            0.060831   \n",
       "111              29              35       -0.093750            0.092888   \n",
       "112              26               2        0.857143            0.084084   \n",
       "113              40              35        0.066667            0.122150   \n",
       "\n",
       "     AVG SENTENCE LENGTH  PERCENTAGE OF COMPLEX WORDS  FOG INDEX  \\\n",
       "0                     22                     0.367121   8.946848   \n",
       "1                     13                     0.274326   5.309730   \n",
       "2                     16                     0.376908   6.550763   \n",
       "3                     12                     0.247599   4.899039   \n",
       "4                     16                     0.286785   6.514714   \n",
       "..                   ...                          ...        ...   \n",
       "109                   15                     0.309609   6.123843   \n",
       "110                   17                     0.299419   6.919767   \n",
       "111                   12                     0.306610   4.922644   \n",
       "112                   21                     0.407080   8.562832   \n",
       "113                   10                     0.302439   4.120976   \n",
       "\n",
       "     AVG NUMBER OF WORDS PER SENTENCE  COMPLEX WORD COUNT  WORD COUNT  \\\n",
       "0                                  22                 431        1174   \n",
       "1                                  12                 234         853   \n",
       "2                                  15                 395        1048   \n",
       "3                                  12                 232         937   \n",
       "4                                  16                 306        1067   \n",
       "..                                ...                 ...         ...   \n",
       "109                                14                 174         562   \n",
       "110                                17                 206         688   \n",
       "111                                11                 218         711   \n",
       "112                                21                 138         339   \n",
       "113                                 9                 186         615   \n",
       "\n",
       "     SYLLABLE PER WORD  PERSONAL PRONOUNS  AVG WORD LENGTH  \n",
       "0                 2898                  1                7  \n",
       "1                 1746                  3                6  \n",
       "2                 2537                  3                7  \n",
       "3                 2007                  2                6  \n",
       "4                 2221                 11                6  \n",
       "..                 ...                ...              ...  \n",
       "109               1254                  7                7  \n",
       "110               1501                  1                7  \n",
       "111               1577                  0                6  \n",
       "112                840                  0                7  \n",
       "113               1374                  1                7  \n",
       "\n",
       "[114 rows x 15 columns]"
      ]
     },
     "execution_count": 82,
     "metadata": {},
     "output_type": "execute_result"
    }
   ],
   "source": [
    "df"
   ]
  },
  {
   "cell_type": "code",
   "execution_count": 83,
   "id": "5caef05b",
   "metadata": {},
   "outputs": [],
   "source": [
    "df.to_excel(\"output.xlsx\")"
   ]
  },
  {
   "cell_type": "code",
   "execution_count": 78,
   "id": "ec221ccd",
   "metadata": {},
   "outputs": [
    {
     "name": "stdout",
     "output_type": "stream",
     "text": [
      "114\n",
      "[37, 'https://insights.blackcoffer.com/ai-in-healthcare-to-improve-patient-outcomes/', 68, 26, 0.4468085058850159, 0.08181026972862465, 22, 0.36712095400340716, 8.946848381601363, 22, 431, 1174, 2898, 1, 7]\n",
      "[38, 'https://insights.blackcoffer.com/what-if-the-creation-is-taking-over-the-creator/', 54, 28, 0.3170731668649614, 0.10073710061334508, 13, 0.27432590855803046, 5.3097303634232125, 12, 234, 853, 1746, 3, 6]\n",
      "[39, 'https://insights.blackcoffer.com/what-jobs-will-robots-take-from-humans-in-the-future/', 64, 29, 0.37634408197479485, 0.09073170722855442, 16, 0.37690839694656486, 6.550763358778626, 15, 395, 1048, 2537, 3, 7]\n",
      "[40, 'https://insights.blackcoffer.com/will-machine-replace-the-human-in-the-future-of-work/', 53, 14, 0.5820895435509024, 0.07274701403610531, 12, 0.24759871931696906, 4.899039487726788, 12, 232, 937, 2007, 2, 6]\n",
      "[41, 'https://insights.blackcoffer.com/will-ai-replace-us-or-work-with-us/', 48, 19, 0.43283581443528635, 0.06620553353141746, 16, 0.2867853795688847, 6.514714151827554, 16, 306, 1067, 2221, 11, 6]\n"
     ]
    }
   ],
   "source": [
    "print(len(ans))\n",
    "for i in range(5):\n",
    "    print(ans[i])"
   ]
  },
  {
   "cell_type": "markdown",
   "id": "87f958a3",
   "metadata": {},
   "source": [
    "Cleaning Using Stop Words"
   ]
  },
  {
   "cell_type": "code",
   "execution_count": 11,
   "id": "d9316ce1",
   "metadata": {},
   "outputs": [
    {
     "name": "stdout",
     "output_type": "stream",
     "text": [
      "['Introduction“If', 'anything', 'kills', '10', 'million']\n"
     ]
    }
   ],
   "source": [
    "path=\"C:/Users/JAY/OneDrive/Desktop/Data Extraction/37.txt\"\n",
    "# word_tokenize accepts\n",
    "# a string as an input, not a file. \n",
    "stop_words = set(stopwords.words('english')) \n",
    "file1 = open(path,'r',encoding='utf-8') \n",
    "# Use this to read file content as a stream: \n",
    "\n",
    "line = file1.read()\n",
    "words = line.split()\n",
    "filtered=[]\n",
    "for r in words: \n",
    "    if not r in stop_words: \n",
    "        filtered.append(r)\n",
    "        #appendFile = open('C:/Users/JAY/OneDrive/Desktop/filteredtext.txt','a',encoding='utf-8') \n",
    "        #appendFile.write(\" \"+r) \n",
    "        #appendFile.close() \n",
    "print(filtered[:5])"
   ]
  },
  {
   "cell_type": "code",
   "execution_count": 6,
   "id": "8f4d8f9a",
   "metadata": {},
   "outputs": [],
   "source": [
    "from nltk.stem.porter import PorterStemmer"
   ]
  },
  {
   "cell_type": "code",
   "execution_count": 7,
   "id": "8d4b7087",
   "metadata": {},
   "outputs": [],
   "source": [
    "stemmer=PorterStemmer()"
   ]
  },
  {
   "cell_type": "code",
   "execution_count": 8,
   "id": "44d37d7e",
   "metadata": {},
   "outputs": [],
   "source": [
    "normal=[]\n",
    "for i in filtered:\n",
    "    x=stemmer.stem(i)\n",
    "    normal.append(x)\n",
    "#print(normal)"
   ]
  },
  {
   "cell_type": "code",
   "execution_count": 9,
   "id": "68185486",
   "metadata": {},
   "outputs": [],
   "source": [
    "s=\"\"\n",
    "for i in normal:\n",
    "    s=s+i+\" \""
   ]
  },
  {
   "cell_type": "code",
   "execution_count": 14,
   "id": "c4d4d9e0",
   "metadata": {},
   "outputs": [
    {
     "name": "stdout",
     "output_type": "stream",
     "text": [
      "68\n",
      "26\n"
     ]
    }
   ],
   "source": [
    "positive_score=0\n",
    "negative_score=0\n",
    "for i in filtered:\n",
    "    if(i in positive):\n",
    "        positive_score+=1\n",
    "    elif(i in negative):\n",
    "        negative_score+=-1\n",
    "negative_score=negative_score*(-1)\n",
    "print(positive_score)\n",
    "print(negative_score)"
   ]
  },
  {
   "cell_type": "code",
   "execution_count": 16,
   "id": "833f05ed",
   "metadata": {},
   "outputs": [
    {
     "name": "stdout",
     "output_type": "stream",
     "text": [
      "0.4468085058850159\n"
     ]
    }
   ],
   "source": [
    "polarity_score=(positive_score - negative_score)/ ((positive_score + negative_score) + 0.000001)\n",
    "print(polarity_score)"
   ]
  },
  {
   "cell_type": "code",
   "execution_count": 18,
   "id": "191774fe",
   "metadata": {},
   "outputs": [
    {
     "name": "stdout",
     "output_type": "stream",
     "text": [
      "0.08181026972862465\n"
     ]
    }
   ],
   "source": [
    "subject_score=(positive_score+negative_score)/(len(filtered)+0.000001)\n",
    "print(subject_score)"
   ]
  },
  {
   "cell_type": "code",
   "execution_count": 36,
   "id": "617ed641",
   "metadata": {},
   "outputs": [],
   "source": [
    "filterstr= ' '.join([str(elem) for elem in filtered])"
   ]
  },
  {
   "cell_type": "code",
   "execution_count": 37,
   "id": "82be56c0",
   "metadata": {},
   "outputs": [],
   "source": [
    "punc = '''!()-[]{};:'\"\\,<>./?@#$%^&*_~'''\n",
    "res=\" \"\n",
    "# Removing punctuations in string\n",
    "# Using loop + punctuation string\n",
    "for ele in filterstr:\n",
    "    if ele not in punc:\n",
    "        res+=ele"
   ]
  },
  {
   "cell_type": "code",
   "execution_count": 27,
   "id": "ce2852d6",
   "metadata": {},
   "outputs": [
    {
     "name": "stdout",
     "output_type": "stream",
     "text": [
      "1174\n"
     ]
    }
   ],
   "source": [
    "word_tokens = word_tokenize(res)\n",
    "word_count=len(word_tokens)\n",
    "print(word_count)"
   ]
  },
  {
   "cell_type": "code",
   "execution_count": 16,
   "id": "797a6f42",
   "metadata": {},
   "outputs": [],
   "source": [
    "from nltk.tokenize import sent_tokenize"
   ]
  },
  {
   "cell_type": "code",
   "execution_count": 61,
   "id": "1fea3544",
   "metadata": {},
   "outputs": [],
   "source": [
    "sent_token=sent_tokenize(filterstr)"
   ]
  },
  {
   "cell_type": "code",
   "execution_count": 44,
   "id": "33a36c39",
   "metadata": {},
   "outputs": [
    {
     "name": "stdout",
     "output_type": "stream",
     "text": [
      "22\n"
     ]
    }
   ],
   "source": [
    "avg_no_of_words_per_sentence= word_count/len(sent_token)\n",
    "print(int(avg_no_of_words_per_sentence))"
   ]
  },
  {
   "cell_type": "code",
   "execution_count": 33,
   "id": "47b82fb1",
   "metadata": {},
   "outputs": [],
   "source": [
    "import re"
   ]
  },
  {
   "cell_type": "code",
   "execution_count": 34,
   "id": "85351c54",
   "metadata": {},
   "outputs": [],
   "source": [
    "def count_syllables(word):\n",
    "    c = 0\n",
    "    vowels = 'aeiou'\n",
    "    l = re.findall(f'(?!e$)(?!es$)(?!ed$)[{vowels}]', word, re.I)\n",
    "    return len(l)"
   ]
  },
  {
   "cell_type": "code",
   "execution_count": 43,
   "id": "9542ca43",
   "metadata": {},
   "outputs": [],
   "source": [
    "syllables=[]\n",
    "for i in word_tokens:\n",
    "    list1=[]\n",
    "    list1.append(i)\n",
    "    list1.append(count_syllables(i))\n",
    "    syllables.append(list1)"
   ]
  },
  {
   "cell_type": "markdown",
   "id": "d8b9393d",
   "metadata": {},
   "source": [
    "PERSONAL PRONOUNS"
   ]
  },
  {
   "cell_type": "code",
   "execution_count": 39,
   "id": "9d65d9f8",
   "metadata": {},
   "outputs": [
    {
     "data": {
      "text/plain": [
       "1"
      ]
     },
     "execution_count": 39,
     "metadata": {},
     "output_type": "execute_result"
    }
   ],
   "source": [
    "def count_personal_pronouns(text):\n",
    "    pronoun_count = re.compile(r'\\b(I|we|ours|my|mine|(?-i:us))\\b', re.I)\n",
    "    pronouns = pronoun_count.findall(text)\n",
    "    return len(pronouns)\n",
    "pronouns=count_personal_pronouns(res)\n",
    "pronouns"
   ]
  },
  {
   "cell_type": "markdown",
   "id": "0327dcbe",
   "metadata": {},
   "source": [
    "AVERGAGE WORD LENGTH"
   ]
  },
  {
   "cell_type": "code",
   "execution_count": 41,
   "id": "a8c37491",
   "metadata": {},
   "outputs": [
    {
     "data": {
      "text/plain": [
       "7"
      ]
     },
     "execution_count": 41,
     "metadata": {},
     "output_type": "execute_result"
    }
   ],
   "source": [
    "c=0\n",
    "for word in word_tokens:\n",
    "    c+=len(word)\n",
    "avg_word_length= round(c/len(word_tokens))\n",
    "avg_word_length"
   ]
  },
  {
   "cell_type": "markdown",
   "id": "35317b82",
   "metadata": {},
   "source": [
    "COMPLEX WORD COUNT"
   ]
  },
  {
   "cell_type": "code",
   "execution_count": 45,
   "id": "e1d50e53",
   "metadata": {},
   "outputs": [
    {
     "data": {
      "text/plain": [
       "431"
      ]
     },
     "execution_count": 45,
     "metadata": {},
     "output_type": "execute_result"
    }
   ],
   "source": [
    "def count_complex_words(words_list):\n",
    "    c = 0\n",
    "    for word in words_list:\n",
    "        l = re.findall('(?!e$)[aeiou]+', word, re.I)+re.findall('^[aeiouy]*e$', word, re.I)\n",
    "        if len(l) > 2:\n",
    "            c += 1\n",
    "    return c\n",
    "\n",
    "complex_words=count_complex_words(word_tokens)\n",
    "complex_words"
   ]
  },
  {
   "cell_type": "markdown",
   "id": "0b4906cb",
   "metadata": {},
   "source": [
    "ANALYSIS OF READABILITY"
   ]
  },
  {
   "cell_type": "code",
   "execution_count": 46,
   "id": "18fa27c3",
   "metadata": {},
   "outputs": [
    {
     "data": {
      "text/plain": [
       "0.36712095400340716"
      ]
     },
     "execution_count": 46,
     "metadata": {},
     "output_type": "execute_result"
    }
   ],
   "source": [
    "percentage_of_complex= complex_words/word_count\n",
    "percentage_of_complex"
   ]
  },
  {
   "cell_type": "code",
   "execution_count": 48,
   "id": "ad27d9be",
   "metadata": {},
   "outputs": [
    {
     "data": {
      "text/plain": [
       "22"
      ]
     },
     "execution_count": 48,
     "metadata": {},
     "output_type": "execute_result"
    }
   ],
   "source": [
    "avg_sentence_length=round(len(word_tokens)/len(sent_token))\n",
    "avg_sentence_length"
   ]
  },
  {
   "cell_type": "code",
   "execution_count": 49,
   "id": "e868511d",
   "metadata": {},
   "outputs": [
    {
     "data": {
      "text/plain": [
       "8.946848381601363"
      ]
     },
     "execution_count": 49,
     "metadata": {},
     "output_type": "execute_result"
    }
   ],
   "source": [
    "fog_index= (0.4)*(avg_sentence_length+percentage_of_complex)\n",
    "fog_index"
   ]
  },
  {
   "cell_type": "code",
   "execution_count": null,
   "id": "576ee93d",
   "metadata": {},
   "outputs": [],
   "source": []
  }
 ],
 "metadata": {
  "kernelspec": {
   "display_name": "Python 3 (ipykernel)",
   "language": "python",
   "name": "python3"
  },
  "language_info": {
   "codemirror_mode": {
    "name": "ipython",
    "version": 3
   },
   "file_extension": ".py",
   "mimetype": "text/x-python",
   "name": "python",
   "nbconvert_exporter": "python",
   "pygments_lexer": "ipython3",
   "version": "3.9.7"
  }
 },
 "nbformat": 4,
 "nbformat_minor": 5
}
